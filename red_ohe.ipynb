{
 "cells": [
  {
   "cell_type": "code",
   "execution_count": 1,
   "metadata": {},
   "outputs": [
    {
     "name": "stdout",
     "output_type": "stream",
     "text": [
      "Using cpu device\n"
     ]
    }
   ],
   "source": [
    "import os\n",
    "import torch\n",
    "from torch import nn\n",
    "from torch.utils.data import DataLoader, Dataset\n",
    "from torchvision import datasets, transforms\n",
    "from torchvision.transforms import ToTensor, Lambda\n",
    "import matplotlib.pyplot as plt\n",
    "\n",
    "device = (\"cuda\" if torch.cuda.is_available() else \"cpu\")\n",
    "print(f\"Using {device} device\")"
   ]
  },
  {
   "cell_type": "code",
   "execution_count": 2,
   "metadata": {},
   "outputs": [
    {
     "name": "stdout",
     "output_type": "stream",
     "text": [
      "   Unnamed: 0    Marca Modelo  Kilómetros        Precio  Edad\n",
      "0           0  Peugeot   2008       23000  21634.614423   2.0\n",
      "1           1  Peugeot   2008       17000  21153.845192   3.0\n",
      "2           2  Peugeot   2008       17500  19711.538462   3.0\n",
      "3           3  Peugeot   2008      123600  14423.076923   6.0\n",
      "4           4  Peugeot   2008       43000  12019.230769   8.0\n"
     ]
    }
   ],
   "source": [
    "import pandas as pd\n",
    "from sklearn.model_selection import train_test_split\n",
    "from sklearn.preprocessing import StandardScaler\n",
    "\n",
    "# Cargar los datos\n",
    "data = pd.read_csv('data.csv')\n",
    "\n",
    "# A la columna de Kilómetros le sacamos el km y lo convertimos a número\n",
    "data['Kilómetros'] = data['Kilómetros'].str.replace(' km', '').str.replace(',', '').astype(int)\n",
    "\n",
    "# Visualizar los primeros registros para asegurarnos de que se han cargado correctamente\n",
    "print(data.head())\n",
    "\n",
    "# Definir las características (features) y el objetivo (target)\n",
    "X = data[['Kilómetros', 'Edad', 'Modelo']]\n",
    "X = pd.get_dummies(X, columns=['Modelo'])\n",
    "y = data['Precio']\n",
    "\n",
    "# # Dividir los datos en conjuntos de entrenamiento y prueba\n",
    "# X_train, X_test, y_train, y_test = train_test_split(X, y, test_size=0.2, random_state=42)\n",
    "# y_train_max = y_train.max()\n",
    "# y_test = y_test / y_train.max()\n",
    "# y_train = y_train / y_train.max()\n",
    "\n",
    "# X_train = pd.get_dummies(X_train, columns=['Modelo'])\n",
    "# X_test = pd.get_dummies(X_test, columns=['Modelo'])\n",
    "\n",
    "# Normalizar las características\n",
    "scaler = StandardScaler()\n",
    "X = scaler.fit_transform(X)\n",
    "\n",
    "# Dividir los datos en conjuntos de entrenamiento y prueba\n",
    "X_train, X_test, y_train, y_test = train_test_split(X, y, test_size=0.2, random_state=42)\n",
    "\n",
    "# Convertir a tensores de PyTorch\n",
    "X_train = torch.tensor(X_train, dtype=torch.float32)\n",
    "X_test = torch.tensor(X_test, dtype=torch.float32)\n",
    "y_train = torch.tensor(y_train.values, dtype=torch.float32).view(-1, 1)\n",
    "y_test = torch.tensor(y_test.values, dtype=torch.float32).view(-1, 1)"
   ]
  },
  {
   "cell_type": "code",
   "execution_count": 3,
   "metadata": {},
   "outputs": [
    {
     "name": "stderr",
     "output_type": "stream",
     "text": [
      "/Users/ninarigal/Library/Python/3.9/lib/python/site-packages/torch/nn/modules/loss.py:535: UserWarning: Using a target size (torch.Size([128, 1, 1])) that is different to the input size (torch.Size([128, 1])). This will likely lead to incorrect results due to broadcasting. Please ensure they have the same size.\n",
      "  return F.mse_loss(input, target, reduction=self.reduction)\n",
      "/Users/ninarigal/Library/Python/3.9/lib/python/site-packages/torch/nn/modules/loss.py:535: UserWarning: Using a target size (torch.Size([109, 1, 1])) that is different to the input size (torch.Size([109, 1])). This will likely lead to incorrect results due to broadcasting. Please ensure they have the same size.\n",
      "  return F.mse_loss(input, target, reduction=self.reduction)\n",
      "/Users/ninarigal/Library/Python/3.9/lib/python/site-packages/torch/nn/modules/loss.py:535: UserWarning: Using a target size (torch.Size([124, 1, 1])) that is different to the input size (torch.Size([124, 1])). This will likely lead to incorrect results due to broadcasting. Please ensure they have the same size.\n",
      "  return F.mse_loss(input, target, reduction=self.reduction)\n"
     ]
    },
    {
     "name": "stdout",
     "output_type": "stream",
     "text": [
      "Epoch 1/100, Train Loss: 1022276250.7428571, Test Loss: 621432307.6571429\n",
      "Epoch 2/100, Train Loss: 518525698.74285716, Test Loss: 500798869.48571426\n",
      "Epoch 3/100, Train Loss: 486070071.8857143, Test Loss: 494337278.17142856\n",
      "Epoch 4/100, Train Loss: 483001416.3428571, Test Loss: 492325050.05714285\n",
      "Epoch 5/100, Train Loss: 481405283.6571429, Test Loss: 492023018.9714286\n",
      "Epoch 6/100, Train Loss: 480779807.7714286, Test Loss: 491889964.3428571\n",
      "Epoch 7/100, Train Loss: 480448816.8, Test Loss: 490975494.4\n",
      "Epoch 8/100, Train Loss: 480953321.94285715, Test Loss: 490841393.37142855\n",
      "Epoch 9/100, Train Loss: 480178521.14285713, Test Loss: 490788041.14285713\n",
      "Epoch 10/100, Train Loss: 480586734.74285716, Test Loss: 490505046.4\n",
      "Epoch 11/100, Train Loss: 480307725.0285714, Test Loss: 490350337.82857144\n",
      "Epoch 12/100, Train Loss: 480213538.17142856, Test Loss: 490764234.51428574\n",
      "Epoch 13/100, Train Loss: 480751684.45714283, Test Loss: 490256186.9714286\n",
      "Epoch 14/100, Train Loss: 480046782.17142856, Test Loss: 490026952.6857143\n",
      "Epoch 15/100, Train Loss: 480411073.82857144, Test Loss: 489949377.37142855\n",
      "Epoch 16/100, Train Loss: 480146798.4, Test Loss: 489955435.8857143\n",
      "Epoch 17/100, Train Loss: 479784510.74285716, Test Loss: 489864864.45714283\n",
      "Epoch 18/100, Train Loss: 479836437.82857144, Test Loss: 490021479.3142857\n",
      "Epoch 19/100, Train Loss: 479811159.3142857, Test Loss: 489777878.4\n",
      "Epoch 20/100, Train Loss: 479727990.28571427, Test Loss: 490091761.37142855\n",
      "Epoch 21/100, Train Loss: 479681247.54285717, Test Loss: 489915223.3142857\n",
      "Epoch 22/100, Train Loss: 479808929.0285714, Test Loss: 489604901.94285715\n",
      "Epoch 23/100, Train Loss: 479304846.28571427, Test Loss: 489358799.0857143\n",
      "Epoch 24/100, Train Loss: 479155612.2285714, Test Loss: 489332076.8\n",
      "Epoch 25/100, Train Loss: 479712708.45714283, Test Loss: 489598802.74285716\n",
      "Epoch 26/100, Train Loss: 479149147.7714286, Test Loss: 489477302.4\n",
      "Epoch 27/100, Train Loss: 478967718.9714286, Test Loss: 489024030.62857145\n",
      "Epoch 28/100, Train Loss: 479143112.45714283, Test Loss: 489442066.28571427\n",
      "Epoch 29/100, Train Loss: 479214001.6, Test Loss: 488834718.62857145\n",
      "Epoch 30/100, Train Loss: 478935371.8857143, Test Loss: 488842709.48571426\n",
      "Epoch 31/100, Train Loss: 478857352.1142857, Test Loss: 488545200.0\n",
      "Epoch 32/100, Train Loss: 479117938.4, Test Loss: 490092380.8\n",
      "Epoch 33/100, Train Loss: 478981684.45714283, Test Loss: 488749442.74285716\n",
      "Epoch 34/100, Train Loss: 478676199.0857143, Test Loss: 489100098.28571427\n",
      "Epoch 35/100, Train Loss: 478259538.85714287, Test Loss: 488126366.17142856\n",
      "Epoch 36/100, Train Loss: 478266163.37142855, Test Loss: 488228675.6571429\n",
      "Epoch 37/100, Train Loss: 478210924.1142857, Test Loss: 488655066.9714286\n",
      "Epoch 38/100, Train Loss: 477615007.0857143, Test Loss: 487781225.6\n",
      "Epoch 39/100, Train Loss: 477775128.3428571, Test Loss: 487711386.05714285\n",
      "Epoch 40/100, Train Loss: 477767303.2, Test Loss: 487908180.1142857\n",
      "Epoch 41/100, Train Loss: 477624237.25714284, Test Loss: 488911786.05714285\n",
      "Epoch 42/100, Train Loss: 477913747.0857143, Test Loss: 487769081.14285713\n",
      "Epoch 43/100, Train Loss: 477342974.05714285, Test Loss: 487408632.2285714\n",
      "Epoch 44/100, Train Loss: 477102586.05714285, Test Loss: 487387149.25714284\n",
      "Epoch 45/100, Train Loss: 477020104.0, Test Loss: 487994061.25714284\n",
      "Epoch 46/100, Train Loss: 476902190.28571427, Test Loss: 487077405.71428573\n",
      "Epoch 47/100, Train Loss: 476614837.37142855, Test Loss: 486850285.25714284\n",
      "Epoch 48/100, Train Loss: 476780950.28571427, Test Loss: 486675572.5714286\n",
      "Epoch 49/100, Train Loss: 476275121.71428573, Test Loss: 486870249.14285713\n",
      "Epoch 50/100, Train Loss: 476281921.14285713, Test Loss: 486678347.8857143\n",
      "Epoch 51/100, Train Loss: 476306694.17142856, Test Loss: 486257897.6\n",
      "Epoch 52/100, Train Loss: 475866011.0857143, Test Loss: 486144920.6857143\n",
      "Epoch 53/100, Train Loss: 475725244.0, Test Loss: 486001427.6571429\n",
      "Epoch 54/100, Train Loss: 475629220.4, Test Loss: 486058732.8\n",
      "Epoch 55/100, Train Loss: 475884496.6857143, Test Loss: 486065554.28571427\n",
      "Epoch 56/100, Train Loss: 475257112.0, Test Loss: 485717717.94285715\n",
      "Epoch 57/100, Train Loss: 475338583.54285717, Test Loss: 485521590.4\n",
      "Epoch 58/100, Train Loss: 475560878.9714286, Test Loss: 485817543.7714286\n",
      "Epoch 59/100, Train Loss: 474875156.1142857, Test Loss: 488287786.05714285\n",
      "Epoch 60/100, Train Loss: 475851843.8857143, Test Loss: 485213534.62857145\n",
      "Epoch 61/100, Train Loss: 475051147.2, Test Loss: 485790907.8857143\n",
      "Epoch 62/100, Train Loss: 474850925.48571426, Test Loss: 485422309.0285714\n",
      "Epoch 63/100, Train Loss: 474627402.28571427, Test Loss: 484888760.2285714\n",
      "Epoch 64/100, Train Loss: 474703589.82857144, Test Loss: 485902368.0\n",
      "Epoch 65/100, Train Loss: 474466779.2, Test Loss: 484935366.4\n",
      "Epoch 66/100, Train Loss: 474740288.9142857, Test Loss: 485137309.25714284\n",
      "Epoch 67/100, Train Loss: 474345836.45714283, Test Loss: 484402591.0857143\n",
      "Epoch 68/100, Train Loss: 473959683.54285717, Test Loss: 484452775.7714286\n",
      "Epoch 69/100, Train Loss: 473568014.4, Test Loss: 484197573.0285714\n",
      "Epoch 70/100, Train Loss: 473391526.74285716, Test Loss: 484553804.8\n",
      "Epoch 71/100, Train Loss: 473553761.25714284, Test Loss: 484626720.0\n",
      "Epoch 72/100, Train Loss: 473343564.45714283, Test Loss: 484166429.71428573\n",
      "Epoch 73/100, Train Loss: 474465634.85714287, Test Loss: 483968775.3142857\n",
      "Epoch 74/100, Train Loss: 473165881.71428573, Test Loss: 485291344.0\n",
      "Epoch 75/100, Train Loss: 473272158.85714287, Test Loss: 484701179.4285714\n",
      "Epoch 76/100, Train Loss: 473239333.37142855, Test Loss: 483485601.82857144\n",
      "Epoch 77/100, Train Loss: 472821415.8857143, Test Loss: 483271151.0857143\n",
      "Epoch 78/100, Train Loss: 472603076.45714283, Test Loss: 483236974.62857145\n",
      "Epoch 79/100, Train Loss: 472563833.6, Test Loss: 483293461.0285714\n",
      "Epoch 80/100, Train Loss: 472442088.6857143, Test Loss: 483096361.14285713\n",
      "Epoch 81/100, Train Loss: 472650324.45714283, Test Loss: 483791285.48571426\n",
      "Epoch 82/100, Train Loss: 472803622.05714285, Test Loss: 483747352.2285714\n",
      "Epoch 83/100, Train Loss: 472782444.5714286, Test Loss: 482771988.5714286\n",
      "Epoch 84/100, Train Loss: 472467654.17142856, Test Loss: 482845156.1142857\n",
      "Epoch 85/100, Train Loss: 472468316.1142857, Test Loss: 482902298.9714286\n",
      "Epoch 86/100, Train Loss: 472255431.8857143, Test Loss: 482703280.45714283\n",
      "Epoch 87/100, Train Loss: 472060346.51428574, Test Loss: 482730917.0285714\n",
      "Epoch 88/100, Train Loss: 472499255.2, Test Loss: 482849029.94285715\n",
      "Epoch 89/100, Train Loss: 471734657.94285715, Test Loss: 482704964.1142857\n",
      "Epoch 90/100, Train Loss: 471978681.25714284, Test Loss: 482396222.62857145\n",
      "Epoch 91/100, Train Loss: 471610947.54285717, Test Loss: 482752832.0\n",
      "Epoch 92/100, Train Loss: 471740397.48571426, Test Loss: 482360927.54285717\n",
      "Epoch 93/100, Train Loss: 472196059.6571429, Test Loss: 482397881.6\n",
      "Epoch 94/100, Train Loss: 471633121.82857144, Test Loss: 482266282.05714285\n",
      "Epoch 95/100, Train Loss: 471325344.85714287, Test Loss: 482380289.37142855\n",
      "Epoch 96/100, Train Loss: 471358203.7714286, Test Loss: 482152717.25714284\n",
      "Epoch 97/100, Train Loss: 471367904.9142857, Test Loss: 482941485.71428573\n",
      "Epoch 98/100, Train Loss: 471160078.85714287, Test Loss: 481939077.48571426\n",
      "Epoch 99/100, Train Loss: 471644354.6857143, Test Loss: 482045059.2\n",
      "Epoch 100/100, Train Loss: 471337132.0, Test Loss: 482000654.62857145\n"
     ]
    },
    {
     "data": {
      "image/png": "[encoded data removed]",
      "text/plain": [
       "<Figure size 640x480 with 1 Axes>"
      ]
     },
     "metadata": {},
     "output_type": "display_data"
    }
   ],
   "source": [
    "# Definir el tamaño del lote\n",
    "batch_size = 128\n",
    "\n",
    "# Crear un DataLoader para los datos de entrenamiento\n",
    "train_data = torch.utils.data.TensorDataset(X_train, y_train)\n",
    "train_loader = DataLoader(dataset=train_data, batch_size=batch_size, shuffle=True)\n",
    "\n",
    "# Crear un DataLoader para los datos de prueba\n",
    "test_data = torch.utils.data.TensorDataset(X_test, y_test)\n",
    "test_loader = DataLoader(dataset=test_data, batch_size=batch_size, shuffle=False)\n",
    "\n",
    "# Definir la arquitectura de la red neuronal\n",
    "class NeuralNetwork(nn.Module):\n",
    "    def __init__(self):\n",
    "        super(NeuralNetwork, self).__init__()\n",
    "        self.model = nn.Sequential(\n",
    "            # nn.Linear(3, 64),\n",
    "            nn.Linear(166, 16),\n",
    "            nn.ReLU(),\n",
    "            # nn.Linear(64, 64),\n",
    "            # nn.Linear(64, 128),\n",
    "            # nn.ReLU(),\n",
    "            # nn.Linear(128, 64),\n",
    "            nn.Linear(16, 32),\n",
    "            nn.ReLU(),\n",
    "            # nn.Linear(64, 1)\n",
    "            nn.Linear(32, 1)\n",
    "        )\n",
    "\n",
    "    def forward(self, x):\n",
    "        return self.model(x)\n",
    "    \n",
    "# Crear una instancia de la red neuronal\n",
    "model = NeuralNetwork().to(device)\n",
    "\n",
    "# Definir la función de pérdida y el optimizador\n",
    "criterion = nn.MSELoss()\n",
    "optimizer = torch.optim.Adam(model.parameters(), lr=0.01)\n",
    "\n",
    "# Entrenar la red neuronal\n",
    "num_epochs = 100\n",
    "train_losses = []\n",
    "test_losses = []\n",
    "\n",
    "for epoch in range(num_epochs):\n",
    "    model.train()\n",
    "    train_loss = 0\n",
    "    for X_batch, y_batch in train_loader:\n",
    "        X_batch, y_batch = X_batch.to(device), y_batch.to(device)\n",
    "        optimizer.zero_grad()\n",
    "        y_pred = model(X_batch)\n",
    "        loss = criterion(y_pred, y_batch.unsqueeze(1))\n",
    "        loss.backward()\n",
    "        optimizer.step()\n",
    "        train_loss += loss.item()\n",
    "    train_losses.append(train_loss / len(train_loader))\n",
    "\n",
    "    model.eval()\n",
    "    test_loss = 0\n",
    "    with torch.no_grad():\n",
    "        for X_batch, y_batch in test_loader:\n",
    "            X_batch, y_batch = X_batch.to(device), y_batch.to(device)\n",
    "            y_pred = model(X_batch)\n",
    "            loss = criterion(y_pred, y_batch.unsqueeze(1))\n",
    "            test_loss += loss.item()\n",
    "        test_losses.append(test_loss / len(test_loader))\n",
    "\n",
    "    print(f\"Epoch {epoch+1}/{num_epochs}, Train Loss: {train_losses[-1]}, Test Loss: {test_losses[-1]}\")\n",
    "\n",
    "# Visualizar la pérdida durante el entrenamiento\n",
    "plt.plot(train_losses, label='Train Loss')\n",
    "plt.plot(test_losses, label='Test Loss')\n",
    "plt.legend()\n",
    "plt.show()"
   ]
  },
  {
   "cell_type": "code",
   "execution_count": 4,
   "metadata": {},
   "outputs": [
    {
     "name": "stdout",
     "output_type": "stream",
     "text": [
      "Test Loss: 482224480.0\n",
      "Error: 482224480.0\n"
     ]
    },
    {
     "name": "stderr",
     "output_type": "stream",
     "text": [
      "/Users/ninarigal/Library/Python/3.9/lib/python/site-packages/torch/nn/modules/loss.py:535: UserWarning: Using a target size (torch.Size([4476, 1, 1])) that is different to the input size (torch.Size([4476, 1])). This will likely lead to incorrect results due to broadcasting. Please ensure they have the same size.\n",
      "  return F.mse_loss(input, target, reduction=self.reduction)\n"
     ]
    }
   ],
   "source": [
    "model.eval()\n",
    "with torch.no_grad():\n",
    "    y_pred = model(X_test.to(device))\n",
    "    loss = criterion(y_pred, y_test.unsqueeze(1).to(device))\n",
    "    print(f\"Test Loss: {loss.item()}\")\n",
    "    print(f\"Error: {loss.item() }\")"
   ]
  },
  {
   "cell_type": "code",
   "execution_count": 10,
   "metadata": {},
   "outputs": [
    {
     "name": "stdout",
     "output_type": "stream",
     "text": [
      "tensor([[0., 0., 0.]])\n"
     ]
    },
    {
     "ename": "RuntimeError",
     "evalue": "mat1 and mat2 shapes cannot be multiplied (1x3 and 166x16)",
     "output_type": "error",
     "traceback": [
      "\u001b[0;31m---------------------------------------------------------------------------\u001b[0m",
      "\u001b[0;31mRuntimeError\u001b[0m                              Traceback (most recent call last)",
      "Cell \u001b[0;32mIn[10], line 10\u001b[0m\n\u001b[1;32m      8\u001b[0m X_new \u001b[38;5;241m=\u001b[39m torch\u001b[38;5;241m.\u001b[39mtensor(X_new, dtype\u001b[38;5;241m=\u001b[39mtorch\u001b[38;5;241m.\u001b[39mfloat32)\n\u001b[1;32m      9\u001b[0m \u001b[38;5;28mprint\u001b[39m(X_new)\n\u001b[0;32m---> 10\u001b[0m y_pred \u001b[38;5;241m=\u001b[39m \u001b[43mmodel\u001b[49m\u001b[43m(\u001b[49m\u001b[43mX_new\u001b[49m\u001b[43m)\u001b[49m\n\u001b[1;32m     11\u001b[0m \u001b[38;5;28mprint\u001b[39m(\u001b[38;5;124mf\u001b[39m\u001b[38;5;124m\"\u001b[39m\u001b[38;5;124mEl precio estimado del coche es: \u001b[39m\u001b[38;5;132;01m{\u001b[39;00my_pred\u001b[38;5;132;01m:\u001b[39;00m\u001b[38;5;124m.2f\u001b[39m\u001b[38;5;132;01m}\u001b[39;00m\u001b[38;5;124m €\u001b[39m\u001b[38;5;124m\"\u001b[39m)\n",
      "File \u001b[0;32m~/Library/Python/3.9/lib/python/site-packages/torch/nn/modules/module.py:1532\u001b[0m, in \u001b[0;36mModule._wrapped_call_impl\u001b[0;34m(self, *args, **kwargs)\u001b[0m\n\u001b[1;32m   1530\u001b[0m     \u001b[38;5;28;01mreturn\u001b[39;00m \u001b[38;5;28mself\u001b[39m\u001b[38;5;241m.\u001b[39m_compiled_call_impl(\u001b[38;5;241m*\u001b[39margs, \u001b[38;5;241m*\u001b[39m\u001b[38;5;241m*\u001b[39mkwargs)  \u001b[38;5;66;03m# type: ignore[misc]\u001b[39;00m\n\u001b[1;32m   1531\u001b[0m \u001b[38;5;28;01melse\u001b[39;00m:\n\u001b[0;32m-> 1532\u001b[0m     \u001b[38;5;28;01mreturn\u001b[39;00m \u001b[38;5;28;43mself\u001b[39;49m\u001b[38;5;241;43m.\u001b[39;49m\u001b[43m_call_impl\u001b[49m\u001b[43m(\u001b[49m\u001b[38;5;241;43m*\u001b[39;49m\u001b[43margs\u001b[49m\u001b[43m,\u001b[49m\u001b[43m \u001b[49m\u001b[38;5;241;43m*\u001b[39;49m\u001b[38;5;241;43m*\u001b[39;49m\u001b[43mkwargs\u001b[49m\u001b[43m)\u001b[49m\n",
      "File \u001b[0;32m~/Library/Python/3.9/lib/python/site-packages/torch/nn/modules/module.py:1541\u001b[0m, in \u001b[0;36mModule._call_impl\u001b[0;34m(self, *args, **kwargs)\u001b[0m\n\u001b[1;32m   1536\u001b[0m \u001b[38;5;66;03m# If we don't have any hooks, we want to skip the rest of the logic in\u001b[39;00m\n\u001b[1;32m   1537\u001b[0m \u001b[38;5;66;03m# this function, and just call forward.\u001b[39;00m\n\u001b[1;32m   1538\u001b[0m \u001b[38;5;28;01mif\u001b[39;00m \u001b[38;5;129;01mnot\u001b[39;00m (\u001b[38;5;28mself\u001b[39m\u001b[38;5;241m.\u001b[39m_backward_hooks \u001b[38;5;129;01mor\u001b[39;00m \u001b[38;5;28mself\u001b[39m\u001b[38;5;241m.\u001b[39m_backward_pre_hooks \u001b[38;5;129;01mor\u001b[39;00m \u001b[38;5;28mself\u001b[39m\u001b[38;5;241m.\u001b[39m_forward_hooks \u001b[38;5;129;01mor\u001b[39;00m \u001b[38;5;28mself\u001b[39m\u001b[38;5;241m.\u001b[39m_forward_pre_hooks\n\u001b[1;32m   1539\u001b[0m         \u001b[38;5;129;01mor\u001b[39;00m _global_backward_pre_hooks \u001b[38;5;129;01mor\u001b[39;00m _global_backward_hooks\n\u001b[1;32m   1540\u001b[0m         \u001b[38;5;129;01mor\u001b[39;00m _global_forward_hooks \u001b[38;5;129;01mor\u001b[39;00m _global_forward_pre_hooks):\n\u001b[0;32m-> 1541\u001b[0m     \u001b[38;5;28;01mreturn\u001b[39;00m \u001b[43mforward_call\u001b[49m\u001b[43m(\u001b[49m\u001b[38;5;241;43m*\u001b[39;49m\u001b[43margs\u001b[49m\u001b[43m,\u001b[49m\u001b[43m \u001b[49m\u001b[38;5;241;43m*\u001b[39;49m\u001b[38;5;241;43m*\u001b[39;49m\u001b[43mkwargs\u001b[49m\u001b[43m)\u001b[49m\n\u001b[1;32m   1543\u001b[0m \u001b[38;5;28;01mtry\u001b[39;00m:\n\u001b[1;32m   1544\u001b[0m     result \u001b[38;5;241m=\u001b[39m \u001b[38;5;28;01mNone\u001b[39;00m\n",
      "Cell \u001b[0;32mIn[3], line 31\u001b[0m, in \u001b[0;36mNeuralNetwork.forward\u001b[0;34m(self, x)\u001b[0m\n\u001b[1;32m     30\u001b[0m \u001b[38;5;28;01mdef\u001b[39;00m \u001b[38;5;21mforward\u001b[39m(\u001b[38;5;28mself\u001b[39m, x):\n\u001b[0;32m---> 31\u001b[0m     \u001b[38;5;28;01mreturn\u001b[39;00m \u001b[38;5;28;43mself\u001b[39;49m\u001b[38;5;241;43m.\u001b[39;49m\u001b[43mmodel\u001b[49m\u001b[43m(\u001b[49m\u001b[43mx\u001b[49m\u001b[43m)\u001b[49m\n",
      "File \u001b[0;32m~/Library/Python/3.9/lib/python/site-packages/torch/nn/modules/module.py:1532\u001b[0m, in \u001b[0;36mModule._wrapped_call_impl\u001b[0;34m(self, *args, **kwargs)\u001b[0m\n\u001b[1;32m   1530\u001b[0m     \u001b[38;5;28;01mreturn\u001b[39;00m \u001b[38;5;28mself\u001b[39m\u001b[38;5;241m.\u001b[39m_compiled_call_impl(\u001b[38;5;241m*\u001b[39margs, \u001b[38;5;241m*\u001b[39m\u001b[38;5;241m*\u001b[39mkwargs)  \u001b[38;5;66;03m# type: ignore[misc]\u001b[39;00m\n\u001b[1;32m   1531\u001b[0m \u001b[38;5;28;01melse\u001b[39;00m:\n\u001b[0;32m-> 1532\u001b[0m     \u001b[38;5;28;01mreturn\u001b[39;00m \u001b[38;5;28;43mself\u001b[39;49m\u001b[38;5;241;43m.\u001b[39;49m\u001b[43m_call_impl\u001b[49m\u001b[43m(\u001b[49m\u001b[38;5;241;43m*\u001b[39;49m\u001b[43margs\u001b[49m\u001b[43m,\u001b[49m\u001b[43m \u001b[49m\u001b[38;5;241;43m*\u001b[39;49m\u001b[38;5;241;43m*\u001b[39;49m\u001b[43mkwargs\u001b[49m\u001b[43m)\u001b[49m\n",
      "File \u001b[0;32m~/Library/Python/3.9/lib/python/site-packages/torch/nn/modules/module.py:1541\u001b[0m, in \u001b[0;36mModule._call_impl\u001b[0;34m(self, *args, **kwargs)\u001b[0m\n\u001b[1;32m   1536\u001b[0m \u001b[38;5;66;03m# If we don't have any hooks, we want to skip the rest of the logic in\u001b[39;00m\n\u001b[1;32m   1537\u001b[0m \u001b[38;5;66;03m# this function, and just call forward.\u001b[39;00m\n\u001b[1;32m   1538\u001b[0m \u001b[38;5;28;01mif\u001b[39;00m \u001b[38;5;129;01mnot\u001b[39;00m (\u001b[38;5;28mself\u001b[39m\u001b[38;5;241m.\u001b[39m_backward_hooks \u001b[38;5;129;01mor\u001b[39;00m \u001b[38;5;28mself\u001b[39m\u001b[38;5;241m.\u001b[39m_backward_pre_hooks \u001b[38;5;129;01mor\u001b[39;00m \u001b[38;5;28mself\u001b[39m\u001b[38;5;241m.\u001b[39m_forward_hooks \u001b[38;5;129;01mor\u001b[39;00m \u001b[38;5;28mself\u001b[39m\u001b[38;5;241m.\u001b[39m_forward_pre_hooks\n\u001b[1;32m   1539\u001b[0m         \u001b[38;5;129;01mor\u001b[39;00m _global_backward_pre_hooks \u001b[38;5;129;01mor\u001b[39;00m _global_backward_hooks\n\u001b[1;32m   1540\u001b[0m         \u001b[38;5;129;01mor\u001b[39;00m _global_forward_hooks \u001b[38;5;129;01mor\u001b[39;00m _global_forward_pre_hooks):\n\u001b[0;32m-> 1541\u001b[0m     \u001b[38;5;28;01mreturn\u001b[39;00m \u001b[43mforward_call\u001b[49m\u001b[43m(\u001b[49m\u001b[38;5;241;43m*\u001b[39;49m\u001b[43margs\u001b[49m\u001b[43m,\u001b[49m\u001b[43m \u001b[49m\u001b[38;5;241;43m*\u001b[39;49m\u001b[38;5;241;43m*\u001b[39;49m\u001b[43mkwargs\u001b[49m\u001b[43m)\u001b[49m\n\u001b[1;32m   1543\u001b[0m \u001b[38;5;28;01mtry\u001b[39;00m:\n\u001b[1;32m   1544\u001b[0m     result \u001b[38;5;241m=\u001b[39m \u001b[38;5;28;01mNone\u001b[39;00m\n",
      "File \u001b[0;32m~/Library/Python/3.9/lib/python/site-packages/torch/nn/modules/container.py:217\u001b[0m, in \u001b[0;36mSequential.forward\u001b[0;34m(self, input)\u001b[0m\n\u001b[1;32m    215\u001b[0m \u001b[38;5;28;01mdef\u001b[39;00m \u001b[38;5;21mforward\u001b[39m(\u001b[38;5;28mself\u001b[39m, \u001b[38;5;28minput\u001b[39m):\n\u001b[1;32m    216\u001b[0m     \u001b[38;5;28;01mfor\u001b[39;00m module \u001b[38;5;129;01min\u001b[39;00m \u001b[38;5;28mself\u001b[39m:\n\u001b[0;32m--> 217\u001b[0m         \u001b[38;5;28minput\u001b[39m \u001b[38;5;241m=\u001b[39m \u001b[43mmodule\u001b[49m\u001b[43m(\u001b[49m\u001b[38;5;28;43minput\u001b[39;49m\u001b[43m)\u001b[49m\n\u001b[1;32m    218\u001b[0m     \u001b[38;5;28;01mreturn\u001b[39;00m \u001b[38;5;28minput\u001b[39m\n",
      "File \u001b[0;32m~/Library/Python/3.9/lib/python/site-packages/torch/nn/modules/module.py:1532\u001b[0m, in \u001b[0;36mModule._wrapped_call_impl\u001b[0;34m(self, *args, **kwargs)\u001b[0m\n\u001b[1;32m   1530\u001b[0m     \u001b[38;5;28;01mreturn\u001b[39;00m \u001b[38;5;28mself\u001b[39m\u001b[38;5;241m.\u001b[39m_compiled_call_impl(\u001b[38;5;241m*\u001b[39margs, \u001b[38;5;241m*\u001b[39m\u001b[38;5;241m*\u001b[39mkwargs)  \u001b[38;5;66;03m# type: ignore[misc]\u001b[39;00m\n\u001b[1;32m   1531\u001b[0m \u001b[38;5;28;01melse\u001b[39;00m:\n\u001b[0;32m-> 1532\u001b[0m     \u001b[38;5;28;01mreturn\u001b[39;00m \u001b[38;5;28;43mself\u001b[39;49m\u001b[38;5;241;43m.\u001b[39;49m\u001b[43m_call_impl\u001b[49m\u001b[43m(\u001b[49m\u001b[38;5;241;43m*\u001b[39;49m\u001b[43margs\u001b[49m\u001b[43m,\u001b[49m\u001b[43m \u001b[49m\u001b[38;5;241;43m*\u001b[39;49m\u001b[38;5;241;43m*\u001b[39;49m\u001b[43mkwargs\u001b[49m\u001b[43m)\u001b[49m\n",
      "File \u001b[0;32m~/Library/Python/3.9/lib/python/site-packages/torch/nn/modules/module.py:1541\u001b[0m, in \u001b[0;36mModule._call_impl\u001b[0;34m(self, *args, **kwargs)\u001b[0m\n\u001b[1;32m   1536\u001b[0m \u001b[38;5;66;03m# If we don't have any hooks, we want to skip the rest of the logic in\u001b[39;00m\n\u001b[1;32m   1537\u001b[0m \u001b[38;5;66;03m# this function, and just call forward.\u001b[39;00m\n\u001b[1;32m   1538\u001b[0m \u001b[38;5;28;01mif\u001b[39;00m \u001b[38;5;129;01mnot\u001b[39;00m (\u001b[38;5;28mself\u001b[39m\u001b[38;5;241m.\u001b[39m_backward_hooks \u001b[38;5;129;01mor\u001b[39;00m \u001b[38;5;28mself\u001b[39m\u001b[38;5;241m.\u001b[39m_backward_pre_hooks \u001b[38;5;129;01mor\u001b[39;00m \u001b[38;5;28mself\u001b[39m\u001b[38;5;241m.\u001b[39m_forward_hooks \u001b[38;5;129;01mor\u001b[39;00m \u001b[38;5;28mself\u001b[39m\u001b[38;5;241m.\u001b[39m_forward_pre_hooks\n\u001b[1;32m   1539\u001b[0m         \u001b[38;5;129;01mor\u001b[39;00m _global_backward_pre_hooks \u001b[38;5;129;01mor\u001b[39;00m _global_backward_hooks\n\u001b[1;32m   1540\u001b[0m         \u001b[38;5;129;01mor\u001b[39;00m _global_forward_hooks \u001b[38;5;129;01mor\u001b[39;00m _global_forward_pre_hooks):\n\u001b[0;32m-> 1541\u001b[0m     \u001b[38;5;28;01mreturn\u001b[39;00m \u001b[43mforward_call\u001b[49m\u001b[43m(\u001b[49m\u001b[38;5;241;43m*\u001b[39;49m\u001b[43margs\u001b[49m\u001b[43m,\u001b[49m\u001b[43m \u001b[49m\u001b[38;5;241;43m*\u001b[39;49m\u001b[38;5;241;43m*\u001b[39;49m\u001b[43mkwargs\u001b[49m\u001b[43m)\u001b[49m\n\u001b[1;32m   1543\u001b[0m \u001b[38;5;28;01mtry\u001b[39;00m:\n\u001b[1;32m   1544\u001b[0m     result \u001b[38;5;241m=\u001b[39m \u001b[38;5;28;01mNone\u001b[39;00m\n",
      "File \u001b[0;32m~/Library/Python/3.9/lib/python/site-packages/torch/nn/modules/linear.py:116\u001b[0m, in \u001b[0;36mLinear.forward\u001b[0;34m(self, input)\u001b[0m\n\u001b[1;32m    115\u001b[0m \u001b[38;5;28;01mdef\u001b[39;00m \u001b[38;5;21mforward\u001b[39m(\u001b[38;5;28mself\u001b[39m, \u001b[38;5;28minput\u001b[39m: Tensor) \u001b[38;5;241m-\u001b[39m\u001b[38;5;241m>\u001b[39m Tensor:\n\u001b[0;32m--> 116\u001b[0m     \u001b[38;5;28;01mreturn\u001b[39;00m \u001b[43mF\u001b[49m\u001b[38;5;241;43m.\u001b[39;49m\u001b[43mlinear\u001b[49m\u001b[43m(\u001b[49m\u001b[38;5;28;43minput\u001b[39;49m\u001b[43m,\u001b[49m\u001b[43m \u001b[49m\u001b[38;5;28;43mself\u001b[39;49m\u001b[38;5;241;43m.\u001b[39;49m\u001b[43mweight\u001b[49m\u001b[43m,\u001b[49m\u001b[43m \u001b[49m\u001b[38;5;28;43mself\u001b[39;49m\u001b[38;5;241;43m.\u001b[39;49m\u001b[43mbias\u001b[49m\u001b[43m)\u001b[49m\n",
      "\u001b[0;31mRuntimeError\u001b[0m: mat1 and mat2 shapes cannot be multiplied (1x3 and 166x16)"
     ]
    }
   ],
   "source": [
    "X_new = pd.DataFrame({\n",
    "    'Kilómetros': [100000],\n",
    "    'Edad': [4],\n",
    "    'Modelo': ['SW4']\n",
    "})\n",
    "X_new = pd.get_dummies(X_new, columns=['Modelo'])\n",
    "X_new = scaler.fit_transform(X_new)\n",
    "X_new = torch.tensor(X_new, dtype=torch.float32)\n",
    "print(X_new)\n",
    "y_pred = model(X_new)\n",
    "print(f\"El precio estimado del coche es: {y_pred:.2f} €\")"
   ]
  }
 ],
 "metadata": {
  "kernelspec": {
   "display_name": "Python 3",
   "language": "python",
   "name": "python3"
  },
  "language_info": {
   "codemirror_mode": {
    "name": "ipython",
    "version": 3
   },
   "file_extension": ".py",
   "mimetype": "text/x-python",
   "name": "python",
   "nbconvert_exporter": "python",
   "pygments_lexer": "ipython3",
   "version": "3.9.6"
  }
 },
 "nbformat": 4,
 "nbformat_minor": 2
}
