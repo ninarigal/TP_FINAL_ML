{
 "cells": [
  {
   "cell_type": "code",
   "execution_count": 16,
   "metadata": {},
   "outputs": [
    {
     "name": "stdout",
     "output_type": "stream",
     "text": [
      "The autoreload extension is already loaded. To reload it, use:\n",
      "  %reload_ext autoreload\n"
     ]
    }
   ],
   "source": [
    "%load_ext autoreload\n",
    "%autoreload 2\n",
    "import pandas as pd\n",
    "import numpy as np"
   ]
  },
  {
   "cell_type": "code",
   "execution_count": 17,
   "metadata": {},
   "outputs": [],
   "source": [
    "file_path = r'/Users/ninarigal/UDESA/TERCER AÑO/APRENDIZAJE AUTOMÁTICO Y APRENDIZAJE AUTÓNOMO/TP_FINAL_ML/pf_suvs_i302_1s2024.csv'\n",
    "data = pd.read_csv(file_path)\n",
    "\n",
    "peugeot = data[data['Marca'] == 'Peugeot']"
   ]
  },
  {
   "cell_type": "code",
   "execution_count": 18,
   "metadata": {},
   "outputs": [
    {
     "name": "stdout",
     "output_type": "stream",
     "text": [
      "['2008' '208' '3008' '4008' '5008']\n"
     ]
    }
   ],
   "source": [
    "peugeot_modelos = peugeot['Modelo'].unique()\n",
    "print(peugeot_modelos)"
   ]
  },
  {
   "cell_type": "code",
   "execution_count": 19,
   "metadata": {},
   "outputs": [],
   "source": [
    "peugeot2008 = peugeot[peugeot['Modelo'] == '2008']"
   ]
  },
  {
   "cell_type": "code",
   "execution_count": 20,
   "metadata": {},
   "outputs": [
    {
     "name": "stdout",
     "output_type": "stream",
     "text": [
      "['1.6 Feline Tip am20' '1.6 Allure' '1.6 Feline' '1.6 Thp Sport'\n",
      " '1.6 Thp Sport Tip' '1.6 Feline Tip' '1.6 Allure am20' '1.6 Allure Tip'\n",
      " '1.6 In Concert Tiptronic' '1.6 Feline am20' '1.6 In Concert'\n",
      " '1.6 FELINE TIPTRONIC AT' 'CONCERT 1.6 THP TIPTRONIC AM20' '1.6 Active'\n",
      " '1.6 Thp Sport am20' '1.6 Crossway' 'Active Pack TipTroni'\n",
      " '1.6 FELINE L/19 TIPTRONIC' '1.6 THP SPORT TIPTRONIC' '1.6 FELINE MT 4x2'\n",
      " '1.6 Féline Mt' '1.6 THP SPORT MT' '1.6 ACTIVE MT 4x2'\n",
      " '1.6 Feline Tiptronic' '1.6 Allure Mt' '1.6 ALLURE L/19 MT'\n",
      " '1.6 Thp In Concert' '1.6 FELINE TIPTRONIC L19' 'Allure 1.6'\n",
      " '1.6 ALLURE L19' '1.6 ALLURE TIPTRONIC L16' '1.6 FELINE L16'\n",
      " '1.6 FELINE TIPTRONIC L17' '1.6 THP SPORT L19' '1.6 CROSSWAY L18'\n",
      " '1.6 FELINE L19' '1.6 ALLURE L16' '1.6 Active am20' 'SPORT 1.6 THP'\n",
      " '1.6 THP SPORT L16' 'Allure' 'Active 1.6']\n"
     ]
    },
    {
     "data": {
      "text/plain": [
       "42"
      ]
     },
     "execution_count": 20,
     "metadata": {},
     "output_type": "execute_result"
    }
   ],
   "source": [
    "version_peugeot2008 = peugeot2008['Versión'].unique()\n",
    "print(version_peugeot2008)\n",
    "len(version_peugeot2008)"
   ]
  },
  {
   "cell_type": "code",
   "execution_count": 21,
   "metadata": {},
   "outputs": [],
   "source": [
    "peugeot208 = peugeot[peugeot['Modelo'] == '208']"
   ]
  },
  {
   "cell_type": "code",
   "execution_count": 22,
   "metadata": {},
   "outputs": [
    {
     "name": "stdout",
     "output_type": "stream",
     "text": [
      "['FELINE TIPTRONIC' 'Feline' 'ACTIVE PACK AT']\n"
     ]
    },
    {
     "data": {
      "text/plain": [
       "3"
      ]
     },
     "execution_count": 22,
     "metadata": {},
     "output_type": "execute_result"
    }
   ],
   "source": [
    "version_peugeot208 = peugeot208['Versión'].unique()\n",
    "print(version_peugeot208)\n",
    "len(version_peugeot208)"
   ]
  },
  {
   "cell_type": "code",
   "execution_count": 23,
   "metadata": {},
   "outputs": [],
   "source": [
    "peugeot3008 = peugeot[peugeot['Modelo'] == '3008']"
   ]
  },
  {
   "cell_type": "code",
   "execution_count": 24,
   "metadata": {},
   "outputs": [
    {
     "name": "stdout",
     "output_type": "stream",
     "text": [
      "['1.6 Gt-line Thp Pack Tiptronic' '2.0 Gt-line Hdi Tiptronic'\n",
      " '2.0 Gt-line Hdi Pack Tiptronic' '1.6 Gt-line Thp Tiptronic'\n",
      " 'GT PACK TIP' 'GT-LINE HDI TIPTRONIC' 'GT PACK HDI TIPTRONIC'\n",
      " 'GT LINE THP TIPTRONIC' 'GT Line 2.0 HDI Triptonic'\n",
      " '1.6 ALLURE TIPTRONIC L17' 'HYBRID 4' 'GT PACK' 'GT LINE 1.6THP AT'\n",
      " '1.6 Gt Thp Pack Tiptronic' 'GT PACK THP 1.6 TURBO' 'GT PACK THP 1.6'\n",
      " 'GT PACK AT' '3008 Gt Pack Am23.5 Ultima Unidad (p)'\n",
      " 'GT PACK THP TIPTRONIC' 'Gt Pack Hybrid4' 'ALLURE PACK AM23,5'\n",
      " '2.0 HDI GT Pack Tiptronic' '1.6 Hybrid 4' 'GT Pack'\n",
      " '2.0 Feline Hdi 163cv' 'GT Pack 1.6 THP' '1.6 Gt-line Thp'\n",
      " '1.6 Allure Thp Tiptronic' 'GT PACK THP TIP.' 'Gt-pack Nafta' 'Gt'\n",
      " 'GT Line Tiptronic']\n"
     ]
    },
    {
     "data": {
      "text/plain": [
       "32"
      ]
     },
     "execution_count": 24,
     "metadata": {},
     "output_type": "execute_result"
    }
   ],
   "source": [
    "version_peugeot3008 = peugeot3008['Versión'].unique()\n",
    "print(version_peugeot3008)\n",
    "len(version_peugeot3008)"
   ]
  },
  {
   "cell_type": "code",
   "execution_count": 25,
   "metadata": {},
   "outputs": [],
   "source": [
    "peugeot4008 = peugeot[peugeot['Modelo'] == '4008']\n"
   ]
  },
  {
   "cell_type": "code",
   "execution_count": 26,
   "metadata": {},
   "outputs": [
    {
     "name": "stdout",
     "output_type": "stream",
     "text": [
      "['2.0 Feline 4x4 150cv Cvt' '2.0 Allure 4x4 150cv Cvt' '2.0 ALLURE 4x4 MT'\n",
      " '2.0 Allure 4x4 150cv Mt5']\n"
     ]
    },
    {
     "data": {
      "text/plain": [
       "4"
      ]
     },
     "execution_count": 26,
     "metadata": {},
     "output_type": "execute_result"
    }
   ],
   "source": [
    "version_peugeot4008 = peugeot4008['Versión'].unique()\n",
    "print(version_peugeot4008)\n",
    "len(version_peugeot4008)"
   ]
  },
  {
   "cell_type": "code",
   "execution_count": 28,
   "metadata": {},
   "outputs": [],
   "source": [
    "peugeot5008 = peugeot[peugeot['Modelo'] == '5008']"
   ]
  },
  {
   "cell_type": "code",
   "execution_count": 29,
   "metadata": {},
   "outputs": [
    {
     "name": "stdout",
     "output_type": "stream",
     "text": [
      "['1.6 Allure At' '1.6 Allure Tiptronic' 'GT PACK TIPTRONIC' 'GT PACK THP'\n",
      " 'gt pack thp' 'GT PACK NAFTA' 'GT PACK AM 23.5' 'GT Pack' 'GT PACK'\n",
      " 'ALLURE PLUS HDI TIPTRONIC']\n"
     ]
    },
    {
     "data": {
      "text/plain": [
       "10"
      ]
     },
     "execution_count": 29,
     "metadata": {},
     "output_type": "execute_result"
    }
   ],
   "source": [
    "version_peugeot5008 = peugeot5008['Versión'].unique()\n",
    "print(version_peugeot5008)\n",
    "len(version_peugeot5008)"
   ]
  },
  {
   "cell_type": "code",
   "execution_count": 27,
   "metadata": {},
   "outputs": [
    {
     "name": "stdout",
     "output_type": "stream",
     "text": [
      "['2008' '208' '3008' '4008' '4Runner' '5008' '500X' '7' 'Actyon' 'Agile'\n",
      " 'Aircross' 'Amigo' 'Blazer' 'Bronco' 'Bronco Sport' 'C-HR' 'C3'\n",
      " 'C3 Aircross' 'C4' 'C4 Aircross' 'C4 Cactus' 'C5 Aircross' 'Captiva'\n",
      " 'Captur' 'Cayenne' 'Cherokee' 'Clase E' 'Clase GL' 'Clase GLA'\n",
      " 'Clase GLB' 'Clase GLC' 'Clase GLE' 'Clase GLK' 'Clase ML' 'Commander'\n",
      " 'Compass' 'Cooper Countryman' 'Corolla Cross' 'Countryman' 'Coupe' 'CR-V'\n",
      " 'Creta' 'Crossfox' 'Defender' 'Discovery' 'DS3' 'DS7' 'DS7 Crossback'\n",
      " 'Duster' 'Duster Oroch' 'E-tron' 'Ecosport' 'Emgrand X7 Sport' 'Equinox'\n",
      " 'Evoque' 'Explorer' 'F-PACE' 'Feroza' 'Forester' 'Freelander' 'Galloper'\n",
      " 'Grand Blazer' 'Grand Cherokee' 'Grand Santa Fé' 'Grand Vitara' 'H1' 'H6'\n",
      " 'Hilux' 'Hilux SW4' 'HR-V' 'Jimny' 'Jolion' 'Journey' 'Kangoo' 'Kicks'\n",
      " 'Koleos' 'Kona' 'Kuga' 'Land Cruiser' 'LX' 'Macan' 'ML' 'Mohave'\n",
      " 'Montero' 'Murano' 'Musso' 'Mustang' 'Myway' 'Nativa' 'Nivus' 'NX'\n",
      " 'Oroch' 'Outback' 'Outlander' 'Panamera' 'Pathfinder' 'Patriot' 'Pilot'\n",
      " 'Pulse' 'Q2' 'Q3' 'Q3 Sportback' 'Q5' 'q5 sportback' 'Q7' 'Q8'\n",
      " 'Range Rover' 'Range Rover Sport' 'RAV4' 'Renegade' 'Rodeo' 'S2' 'S5'\n",
      " 'Samurai' 'Sandero' 'Sandero Stepway' 'Santa Fe' 'Seltos' 'Serie 4'\n",
      " 'Sorento' 'Soul' 'Spin' 'Sportage' 'SQ5' 'Stelvio' 'Suran' 'SW4'\n",
      " 'T-Cross' 'Taos' 'Terios' 'Terrano II' 'Territory' 'Tiggo' 'Tiggo 2'\n",
      " 'Tiggo 3' 'Tiggo 4' 'Tiggo 4 Pro' 'Tiggo 5' 'Tiggo 8 Pro' 'Tiguan'\n",
      " 'Tiguan Allspace' 'Touareg' 'Tracker' 'Trailblazer' 'Trooper' 'Tucson'\n",
      " 'UX' 'Veracruz' 'Vitara' 'Wrangler' 'X-Terra' 'X-Trail' 'X1' 'X2' 'X25'\n",
      " 'X3' 'X35' 'X4' 'X5' 'X55' 'X6' 'X70' 'XC40' 'XC60']\n"
     ]
    },
    {
     "data": {
      "text/plain": [
       "164"
      ]
     },
     "execution_count": 27,
     "metadata": {},
     "output_type": "execute_result"
    }
   ],
   "source": [
    "print(data['Modelo'].unique())\n",
    "len(data['Modelo'].unique())"
   ]
  }
 ],
 "metadata": {
  "kernelspec": {
   "display_name": "Python 3",
   "language": "python",
   "name": "python3"
  },
  "language_info": {
   "codemirror_mode": {
    "name": "ipython",
    "version": 3
   },
   "file_extension": ".py",
   "mimetype": "text/x-python",
   "name": "python",
   "nbconvert_exporter": "python",
   "pygments_lexer": "ipython3",
   "version": "3.9.6"
  }
 },
 "nbformat": 4,
 "nbformat_minor": 2
}
