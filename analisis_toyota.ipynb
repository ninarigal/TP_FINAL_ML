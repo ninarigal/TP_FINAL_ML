{
 "cells": [
  {
   "cell_type": "code",
   "execution_count": 1,
   "metadata": {},
   "outputs": [],
   "source": [
    "%load_ext autoreload\n",
    "%autoreload 2\n",
    "import pandas as pd\n",
    "import numpy as np"
   ]
  },
  {
   "cell_type": "code",
   "execution_count": 2,
   "metadata": {},
   "outputs": [],
   "source": [
    "file_path = r'/Users/ninarigal/UDESA/TERCER AÑO/APRENDIZAJE AUTOMÁTICO Y APRENDIZAJE AUTÓNOMO/TP_FINAL_ML/pf_suvs_i302_1s2024.csv'\n",
    "data = pd.read_csv(file_path)\n",
    "\n",
    "toyota = data[data['Marca'] == 'Toyota']"
   ]
  },
  {
   "cell_type": "code",
   "execution_count": 4,
   "metadata": {},
   "outputs": [
    {
     "name": "stdout",
     "output_type": "stream",
     "text": [
      "['4Runner' 'C-HR' 'Corolla Cross' 'Hilux' 'Hilux SW4' 'Land Cruiser'\n",
      " 'RAV4' 'SW4']\n"
     ]
    }
   ],
   "source": [
    "toyota_modelos = toyota['Modelo'].unique()\n",
    "print(toyota_modelos)"
   ]
  },
  {
   "cell_type": "code",
   "execution_count": 5,
   "metadata": {},
   "outputs": [
    {
     "name": "stdout",
     "output_type": "stream",
     "text": [
      "['2.8 Sl D' '2.8 L D' '2.7 NAFTA LIMITED 4X4']\n"
     ]
    },
    {
     "data": {
      "text/plain": [
       "3"
      ]
     },
     "execution_count": 5,
     "metadata": {},
     "output_type": "execute_result"
    }
   ],
   "source": [
    "toyota4Runner = toyota[toyota['Modelo'] == '4Runner']\n",
    "version_toyota4Runner = toyota4Runner['Versión'].unique()\n",
    "print(version_toyota4Runner)\n",
    "len(version_toyota4Runner)"
   ]
  },
  {
   "cell_type": "code",
   "execution_count": 6,
   "metadata": {},
   "outputs": [
    {
     "name": "stdout",
     "output_type": "stream",
     "text": [
      "['Hev Cvt']\n"
     ]
    },
    {
     "data": {
      "text/plain": [
       "1"
      ]
     },
     "execution_count": 6,
     "metadata": {},
     "output_type": "execute_result"
    }
   ],
   "source": [
    "toyotaCHR = toyota[toyota['Modelo'] == 'C-HR']\n",
    "version_toyotaCHR = toyotaCHR['Versión'].unique()\n",
    "print(version_toyotaCHR)\n",
    "len(version_toyotaCHR)"
   ]
  },
  {
   "cell_type": "code",
   "execution_count": 7,
   "metadata": {},
   "outputs": [
    {
     "name": "stdout",
     "output_type": "stream",
     "text": [
      "['2.0 Seg Cvt' '2.0 Xli Cvt' '1.8 Seg Ecvt' '2.0 Xei Cvt' '1.8 Xei Ecvt'\n",
      " '2.0 Grs Cvt 170cv' '2.0 CROSS GR-SPORT CVT' '2.0 SEG GRS CVT' 'XLI CVT'\n",
      " 'SEG 2.0 CVT' 'HIBRIDA 1.8 ECVT' 'XLI 2.0 CVT' 'SEG HV 1.8 ECVT'\n",
      " 'Seg 2.0 Cvt' 'SEG HYBRID' '1.8 Xei Ecvt Hibrida' 'XEI HEV' 'Hibrido'\n",
      " 'GAZOO RACING' '1.8 Xei Hv E-Cvt' 'Seg' 'SEG 2.0CVT' 'XEI HEV 1.8 ECVT'\n",
      " 'SEG HEV' 'XEI Hibrido' 'SEG' 'xei nafta' '2.0 Cvt' '1.8 XEI hibrido'\n",
      " 'SEG HEV 1.8 eCVT' '1.8 SEG HV E-CVT' 'XLI CVT 2.0'\n",
      " '1.8 XEI hybrid híbri' 'Seg hybrida' '2.0 XLI AT' 'SEG HV'\n",
      " 'XLI Automatico' 'Xli CVT 2.0' '1.8 XEI ecvt hibrid' 'XEI 2.0 CVT']\n"
     ]
    },
    {
     "data": {
      "text/plain": [
       "40"
      ]
     },
     "execution_count": 7,
     "metadata": {},
     "output_type": "execute_result"
    }
   ],
   "source": [
    "toyotaCorollaCross = toyota[toyota['Modelo'] == 'Corolla Cross']\n",
    "version_toyotaCorollaCross = toyotaCorollaCross['Versión'].unique()\n",
    "print(version_toyotaCorollaCross)\n",
    "len(version_toyotaCorollaCross)"
   ]
  },
  {
   "cell_type": "code",
   "execution_count": 8,
   "metadata": {},
   "outputs": [
    {
     "name": "stdout",
     "output_type": "stream",
     "text": [
      "['2.8 Cd Srx 177cv 4x4']\n"
     ]
    },
    {
     "data": {
      "text/plain": [
       "1"
      ]
     },
     "execution_count": 8,
     "metadata": {},
     "output_type": "execute_result"
    }
   ],
   "source": [
    "toyotaHilux = toyota[toyota['Modelo'] == 'Hilux']\n",
    "version_toyotaHilux = toyotaHilux['Versión'].unique()\n",
    "print(version_toyotaHilux)\n",
    "len(version_toyotaHilux)"
   ]
  },
  {
   "cell_type": "code",
   "execution_count": 9,
   "metadata": {},
   "outputs": [
    {
     "name": "stdout",
     "output_type": "stream",
     "text": [
      "['2.8 Srx 177cv 4x4 7as At' 'Sw4 4x4 SRX 2.8 TDI' '2.8 Sr 177cv 4x4'\n",
      " '3.0 Srv Cuero I 171cv 4x4 4at' 'SRX 4X4' 'HILUX SW4 4X4 at cue'\n",
      " '3.0 srv cuero manual' 'SRX 7 As AT' '3.0 Srv Cuero At'\n",
      " 'SW4 SRX 7A AUT FULL' 'Srx at 7a' '3.0 Srv Cuero'\n",
      " '3.0 Srv Cuero I 171cv 4x4' '3.0 Srv' '3.0 I Runner Tc Cu'\n",
      " 'Srv cuero 4x4 manual' '3.0 TD SRV' 'Grs' 'Diamons' 'SW4 SRX At'\n",
      " '2.8 Tdi Diamante Ii 4x4 7as 6at' 'Sw4' '3.0'\n",
      " '2.7 Srv Cuero Vvti 4x2 4at 7 As - C4' 'SRX 2.8 TDI AT6 7AS'\n",
      " '3.0 Srv Cuero I 171cv 4x4 5at' '3.0 I Srv c/cuero'\n",
      " '4X4 SRX AT 7 Asiento' 'SW4 4X4 SRV 3.0 TDI' 'SRX' 'SRX AT'\n",
      " 'SW4 3.0 srv 4x4' 'Srv 4x4 3.0 manual' '3.0 srv  cuero 4x4'\n",
      " 'Sw4 con cuero' '2.8 SRX 4 x 4' 'sw4 srv manual cuero'\n",
      " '3.0 SRV manual/pana' 'SRX AT 7A' 'Srx 177cv automática'\n",
      " '3.0 Srv Cuero 171cv 4x4 5at - A4' 'Toyota SW4' '2.8 srx 177cv 4x4 at'\n",
      " '2.8 tdi srx 4x4 at 7' '3.0 SRV 4x4 Manual']\n"
     ]
    },
    {
     "data": {
      "text/plain": [
       "45"
      ]
     },
     "execution_count": 9,
     "metadata": {},
     "output_type": "execute_result"
    }
   ],
   "source": [
    "toyotaHiluxSW4 = toyota[toyota['Modelo'] == 'Hilux SW4']\n",
    "version_toyotaHiluxSW4 = toyotaHiluxSW4['Versión'].unique()\n",
    "print(version_toyotaHiluxSW4)\n",
    "len(version_toyotaHiluxSW4)"
   ]
  },
  {
   "cell_type": "code",
   "execution_count": 13,
   "metadata": {},
   "outputs": [
    {
     "name": "stdout",
     "output_type": "stream",
     "text": [
      "['4.0 Prado Vx At' '4.5 200 V8 D4-d 235cv At' '3.0 Prado At' '4.2 Dl'\n",
      " 'Prado VX' '4.5 200 Vx 265cv At W/floormat' '4.0 Prado Txl At'\n",
      " '4.0 Prado Vx Mt' '3.0 Prado Mt' '4.0 V6' '3.0 Prado' 'vx 100' 'VX 3.0'\n",
      " 'PRADO VX A/T' '4.5 Td 200 Vx 265cv At W/floormat' 'PRADO VX'\n",
      " 'Prado 2.8 4x4 AT']\n"
     ]
    },
    {
     "data": {
      "text/plain": [
       "17"
      ]
     },
     "execution_count": 13,
     "metadata": {},
     "output_type": "execute_result"
    }
   ],
   "source": [
    "toyotaLandCruiser = toyota[toyota['Modelo'] == 'Land Cruiser']\n",
    "version_toyotaLandCruiser = toyotaLandCruiser['Versión'].unique()\n",
    "print(version_toyotaLandCruiser)\n",
    "len(version_toyotaLandCruiser)"
   ]
  },
  {
   "cell_type": "code",
   "execution_count": 14,
   "metadata": {},
   "outputs": [
    {
     "name": "stdout",
     "output_type": "stream",
     "text": [
      "['2.0 4x2 Vx Cvt' '2.5 Vx' '2.4 4x4 At' '2.4 4x2 At' '2.0 Vx' '2.5 Tx'\n",
      " '2.0 4x2 Cvt' '2.0 Tx' '2.5 4x4 Vx 6at' 'HV 2.5 Limited' 'LIMITED HV'\n",
      " '2.5 Limited' 'Limited CVT' 'Rav 4 2.5 Hybrid Limited'\n",
      " 'HV 2.5 LIMITED 4X2' 'Limited' 'Hv 2.5 Awd Limited'\n",
      " 'Limited 4x4 HV Hibrida' 'Xle' '2.5 4x4 VX AT' '2.5 VX AT 4x4'\n",
      " '2.0 4x2 Tx Cvt' '2.5 4x4 6at' '2.5 HYBRID LIMITED AT 4x2'\n",
      " 'RAV4 HV 2.5 AWD LIMITED CVT' 'RAV4 HV 2.5 LIMITED CVT'\n",
      " 'HV 2.5 AWD Limited CVT' 'Rav4' 'Hv 2.5 AWD LIMITED CVT' 'HV 2.5 XLE CVT'\n",
      " 'HV 2.5 AWD LIMITED' '4x2' 'HV 2.5 LIMITED CVT' 'Hv 2.5 4x2 Limited Cvt'\n",
      " '2.0 N 4x4 at o pmto.' 'HV 2.5 Limited CVT' '4wd'\n",
      " 'HD 2.5 AWD LIMITED CVT' 'LIMITED HIBRIDA 4X4 AT']\n"
     ]
    },
    {
     "data": {
      "text/plain": [
       "39"
      ]
     },
     "execution_count": 14,
     "metadata": {},
     "output_type": "execute_result"
    }
   ],
   "source": [
    "toyotaRAV4 = toyota[toyota['Modelo'] == 'RAV4']\n",
    "version_toyotaRAV4 = toyotaRAV4['Versión'].unique()\n",
    "print(version_toyotaRAV4)\n",
    "len(version_toyotaRAV4)"
   ]
  },
  {
   "cell_type": "code",
   "execution_count": 15,
   "metadata": {},
   "outputs": [
    {
     "name": "stdout",
     "output_type": "stream",
     "text": [
      "['2.8 Srx 204Cv 4X4 7As At' '3.0 I Srv At C/cuero 4x4 (2009)'\n",
      " '2.8 Tdi Gr-s 4x4 7as 6at' '2.8 Tdi Diamante Ii 4x4 7as 6at'\n",
      " '2.8 Srx 177cv 4x4 7as 6at' '2.8 Srx 177cv 4x4 7as At' '2.8 Sr 177cv 4x4'\n",
      " '3.0' '3.0 Srv Cuero I 171cv 4x4' '2.8 Srx 177cv 4x4 7as'\n",
      " '3.0 Srv Cuero 171cv 4x4 - E4' '3.0 Srv Cuero' '3.0 Srv 171cv 4x4 - C3'\n",
      " '3.0 Srv Cuero 171cv 4x4 5at' '2.7 Srv Cuero Vvti 4x2 4at 7 Asientos'\n",
      " '3.0 Srv I 171cv 4x4' '3.0 I Srv C/cuero 4x4 (2009)'\n",
      " '3.0 Srv Cuero I 171cv 4x4 4at' 'SRX 204Cv 7A AT'\n",
      " '3.0 Srv Cuero I 171cv 4x4 5at' 'SW4 SRX 2.8 TDI 6 AT'\n",
      " '3.0 I Srv 4x4 (2009)' '3.0 Srv Cuero At'\n",
      " '2.7 Srv Cuero Vvti 4x2 4at 7 As - C4' '3.0 Srv' '3.0 SRV At/cuero 4x4'\n",
      " 'srx 2.8 tdi 204 CV' 'SRX AT 7A' '3.0 I Runner' 'SRX 4X4 AT'\n",
      " '4X4 DIAMOND II 2.8 TDI 6 AT' '4x4 SRX 2.8 TDI 6 A/T 7A' 'Diamond'\n",
      " '4X4 DIAMOND II 2.8 TDI 6 AT 7A' 'SRX Y DIAMOND' 'DIAMOND'\n",
      " '2.8 SRX 7AS AT 4x4' '2.7 Srv Cuero Vvti 4x2 4at 5 Asientos' '3.0 Srv At'\n",
      " '4x4 SR 2.8 TDI 6A/T 5A' '2.8 GR-SPORT 224CV 4X4 7AS AT'\n",
      " 'SW4 SRV 4X4 TDI 3.0 MT 5AS' '3.0 Srv 171cv 4x4'\n",
      " '3.0 Srv Cuero I 171cv 4x4 5at - A4' '4X4 SRX 2.8 TDI 6 A/T 7A'\n",
      " 'SRX 204cv' 'SW4 TDI SRV CUERO AT L/12' '3.0 Srv Cuero I 171cv 4x4 - E4'\n",
      " 'SRV M/T' 'gr' 'srx' '204 cv SRX 7 asiento' 'GR Sport' 'GR' 'GR-Sport'\n",
      " '4x4' 'Hilux asientos de cuero' '2.8 TDI DIAMOND II 7As AT 4x4'\n",
      " '3.0 Srv Cuero 171cv 4x4 5at - A4' 'Srv 4x4 Cuero 7 Asie'\n",
      " '3.0 I Runner Tc Cu' '2.8 GR-SPORT 204CV 4X4 7AS AT' '2.8 srv 4x4'\n",
      " '3.0 Srv Cuero 171cv 4x4' 'SRX 2.8 TDI AT 7AS' '2.7 Runner'\n",
      " 'Srx 2.8tdi 204cv 4x4 At My24 L/nva' 'Fortuner' '3.0 Wide Body'\n",
      " 'Toyota SW4 SRX 4x4 2.8 204cv' '4x4 Diamond II 2.8 TDI 6 at 7as'\n",
      " '3.0 Turbo' '2.8 srx 204cv 7as at' 'Toyota SW4 2.8 Srx' '3.0 srv 4x4'\n",
      " 'SW4 4X4 SRX 2.8 TDI 6 AT 7A FULL' '2.8srx204cv4x4 7a6at'\n",
      " '2.8 Srx 204cv 4x4 7a' 'SW4 4X4 SRV 3.0 TDI C/CUERO'\n",
      " '4x4 SR 2.8 TDI 6A/T' '2.8 srx 204cv 4x4' 'SRX 2.8 TDI 6 A/T  7A'\n",
      " 'sw4 3.0 td']\n"
     ]
    },
    {
     "data": {
      "text/plain": [
       "83"
      ]
     },
     "execution_count": 15,
     "metadata": {},
     "output_type": "execute_result"
    }
   ],
   "source": [
    "toyotaSW4 = toyota[toyota['Modelo'] == 'SW4']\n",
    "version_toyotaSW4 = toyotaSW4['Versión'].unique()\n",
    "print(version_toyotaSW4)\n",
    "len(version_toyotaSW4)"
   ]
  }
 ],
 "metadata": {
  "kernelspec": {
   "display_name": "Python 3",
   "language": "python",
   "name": "python3"
  },
  "language_info": {
   "codemirror_mode": {
    "name": "ipython",
    "version": 3
   },
   "file_extension": ".py",
   "mimetype": "text/x-python",
   "name": "python",
   "nbconvert_exporter": "python",
   "pygments_lexer": "ipython3",
   "version": "3.9.6"
  }
 },
 "nbformat": 4,
 "nbformat_minor": 2
}
