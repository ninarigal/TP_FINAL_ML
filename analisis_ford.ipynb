{
 "cells": [
  {
   "cell_type": "code",
   "execution_count": 1,
   "metadata": {},
   "outputs": [],
   "source": [
    "%load_ext autoreload\n",
    "%autoreload 2\n",
    "import pandas as pd\n",
    "import numpy as np"
   ]
  },
  {
   "cell_type": "code",
   "execution_count": 2,
   "metadata": {},
   "outputs": [],
   "source": [
    "file_path = r'/Users/ninarigal/UDESA/TERCER AÑO/APRENDIZAJE AUTOMÁTICO Y APRENDIZAJE AUTÓNOMO/TP_FINAL_ML/pf_suvs_i302_1s2024.csv'\n",
    "data = pd.read_csv(file_path)\n",
    "\n",
    "ford = data[data['Marca'] == 'Ford']"
   ]
  },
  {
   "cell_type": "code",
   "execution_count": 3,
   "metadata": {},
   "outputs": [
    {
     "name": "stdout",
     "output_type": "stream",
     "text": [
      "['Bronco' 'Bronco Sport' 'Ecosport' 'Explorer' 'Kuga' 'Mustang'\n",
      " 'Territory']\n"
     ]
    }
   ],
   "source": [
    "ford_modelos = ford['Modelo'].unique()\n",
    "print(ford_modelos)"
   ]
  },
  {
   "cell_type": "code",
   "execution_count": null,
   "metadata": {},
   "outputs": [],
   "source": []
  }
 ],
 "metadata": {
  "kernelspec": {
   "display_name": "Python 3",
   "language": "python",
   "name": "python3"
  },
  "language_info": {
   "codemirror_mode": {
    "name": "ipython",
    "version": 3
   },
   "file_extension": ".py",
   "mimetype": "text/x-python",
   "name": "python",
   "nbconvert_exporter": "python",
   "pygments_lexer": "ipython3",
   "version": "3.9.6"
  }
 },
 "nbformat": 4,
 "nbformat_minor": 2
}
