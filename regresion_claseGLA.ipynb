{
 "cells": [
  {
   "cell_type": "code",
   "execution_count": 4,
   "metadata": {},
   "outputs": [],
   "source": [
    "import pandas as pd\n",
    "from category_encoders import TargetEncoder\n",
    "from sklearn.model_selection import train_test_split\n",
    "from sklearn.linear_model import LinearRegression\n",
    "from sklearn.metrics import mean_squared_error, r2_score\n",
    "import joblib"
   ]
  },
  {
   "cell_type": "code",
   "execution_count": 5,
   "metadata": {},
   "outputs": [
    {
     "name": "stdout",
     "output_type": "stream",
     "text": [
      "MSE: 76965589.23862691\n",
      "R2: 0.7564697354916259\n"
     ]
    }
   ],
   "source": [
    "# Cargar los datos\n",
    "data = pd.read_csv('data.csv')\n",
    "data = data[data['Modelo'] == 'Clase GLA']\n",
    "\n",
    "# A la columna de Kilómetros le sacamos el km y lo convertimos a número\n",
    "data['Kilómetros'] = data['Kilómetros'].str.replace(' km', '').str.replace(',', '').astype(int)\n",
    "\n",
    "# Definir las características (features) y el objetivo (target)\n",
    "X = data[['Kilómetros', 'Edad']]\n",
    "y = data['Precio']\n",
    "\n",
    "precio_okm = y[X['Kilómetros'] == 0].mean()\n",
    "\n",
    "# Filtrar datos donde los kilómetros no son 0\n",
    "X = X[X['Kilómetros'] != 0]\n",
    "y = y[X.index]\n",
    "\n",
    "y = precio_okm - y\n",
    "\n",
    "# Dividir los datos en entrenamiento y prueba\n",
    "X_train, X_test, y_train, y_test = train_test_split(X, y, test_size=0.2, random_state=42)\n",
    "\n",
    "# Entrenar el modelo\n",
    "model = LinearRegression()\n",
    "model.fit(X_train, y_train)\n",
    "\n",
    "# Predecir\n",
    "y_pred = model.predict(X_test)\n",
    "\n",
    "# Evaluar\n",
    "mse = mean_squared_error(y_test, y_pred)\n",
    "r2 = r2_score(y_test, y_pred)\n",
    "\n",
    "print(f'MSE: {mse}')\n",
    "print(f'R2: {r2}')\n"
   ]
  },
  {
   "cell_type": "code",
   "execution_count": 8,
   "metadata": {},
   "outputs": [
    {
     "name": "stdout",
     "output_type": "stream",
     "text": [
      "Precio 0 km: 91463.63636363637\n",
      "Precio: 25759.005666642202\n"
     ]
    },
    {
     "name": "stderr",
     "output_type": "stream",
     "text": [
      "/Users/ninarigal/Library/Python/3.9/lib/python/site-packages/sklearn/base.py:493: UserWarning: X does not have valid feature names, but LinearRegression was fitted with feature names\n",
      "  warnings.warn(\n"
     ]
    }
   ],
   "source": [
    "# Predict\n",
    "km = 89000\n",
    "edad = 9\n",
    "precio = model.predict([[km, edad]])\n",
    "precio = precio_okm - precio\n",
    "print(f'Precio 0 km: {precio_okm}')\n",
    "print(f'Precio: {precio[0]}')\n"
   ]
  }
 ],
 "metadata": {
  "kernelspec": {
   "display_name": "Python 3",
   "language": "python",
   "name": "python3"
  },
  "language_info": {
   "codemirror_mode": {
    "name": "ipython",
    "version": 3
   },
   "file_extension": ".py",
   "mimetype": "text/x-python",
   "name": "python",
   "nbconvert_exporter": "python",
   "pygments_lexer": "ipython3",
   "version": "3.9.6"
  }
 },
 "nbformat": 4,
 "nbformat_minor": 2
}
