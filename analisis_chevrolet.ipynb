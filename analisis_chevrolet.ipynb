{
 "cells": [
  {
   "cell_type": "code",
   "execution_count": 1,
   "metadata": {},
   "outputs": [],
   "source": [
    "%load_ext autoreload\n",
    "%autoreload 2\n",
    "import pandas as pd\n",
    "import numpy as np"
   ]
  },
  {
   "cell_type": "code",
   "execution_count": 2,
   "metadata": {},
   "outputs": [],
   "source": [
    "file_path = r'/Users/ninarigal/UDESA/TERCER AÑO/APRENDIZAJE AUTOMÁTICO Y APRENDIZAJE AUTÓNOMO/TP_FINAL_ML/pf_suvs_i302_1s2024.csv'\n",
    "data = pd.read_csv(file_path)\n",
    "\n",
    "chevrolet = data[data['Marca'] == 'Chevrolet']"
   ]
  },
  {
   "cell_type": "code",
   "execution_count": 3,
   "metadata": {},
   "outputs": [
    {
     "name": "stdout",
     "output_type": "stream",
     "text": [
      "['Agile' 'Blazer' 'Captiva' 'Equinox' 'Grand Blazer' 'Grand Vitara' 'Spin'\n",
      " 'Tracker' 'Trailblazer']\n"
     ]
    }
   ],
   "source": [
    "chevrolet_modelos = chevrolet['Modelo'].unique()\n",
    "print(chevrolet_modelos)"
   ]
  },
  {
   "cell_type": "code",
   "execution_count": 5,
   "metadata": {},
   "outputs": [
    {
     "name": "stdout",
     "output_type": "stream",
     "text": [
      "['Lt 1.4n']\n",
      "1\n"
     ]
    }
   ],
   "source": [
    "chevroletAgile = chevrolet[chevrolet['Modelo'] == 'Agile']\n",
    "version_chevroletAgile = chevroletAgile['Versión'].unique()\n",
    "print(version_chevroletAgile)\n",
    "print(len(version_chevroletAgile))"
   ]
  },
  {
   "cell_type": "code",
   "execution_count": 7,
   "metadata": {},
   "outputs": [
    {
     "name": "stdout",
     "output_type": "stream",
     "text": [
      "['2.8 Cdoble Dlx 4x2 Electronico' '2.8 Dlx 4x2' '2.8 Dlx I 4x2'\n",
      " 'DLX 2.8 4X2' '4.3 4x4 200 Hp Tahoe Lt' '2.8 Dlx 4x4' '4.3 4x2 160 Hp'\n",
      " '2.8 Dlx I 4x4' '4.3 4x4 160 Hp' '4.3 4x4 200 Hp'\n",
      " '2.8 Cdoble Dlx 4x4 Electronico' '2.4']\n",
      "12\n"
     ]
    }
   ],
   "source": [
    "chevroletBlazer = chevrolet[chevrolet['Modelo'] == 'Blazer']\n",
    "version_chevroletBlazer = chevroletBlazer['Versión'].unique()\n",
    "print(version_chevroletBlazer)\n",
    "print(len(version_chevroletBlazer))"
   ]
  },
  {
   "cell_type": "code",
   "execution_count": 8,
   "metadata": {},
   "outputs": [
    {
     "name": "stdout",
     "output_type": "stream",
     "text": [
      "['2.4 Ls Mt Fwd 167cv' '2.2 Ltz 184cv' '2.4 Ls 167cv' '2.4 Lt 167cv'\n",
      " '2.0 Vcdi Lt Mt' '2.4 Lt Mt Awd 167cv' '2.2 Ltz 184cv 7as Mt'\n",
      " '2.2 Ltz Awd D 184cv At' '2.2 Lt Awd D 184cv Mt' 'Lt 2.2 D 7 asientos'\n",
      " '2.0 Vcdi Ltz At' '2.4 Lt Mt' '2.4 LS MT 4x2' '2.4 LS 167CV MT 4x2'\n",
      " 'LT 2.4' '2.4 Ls' '2.2 ltz 200 cv' '2.4 Ls - 167 cv' 'LT']\n",
      "19\n"
     ]
    }
   ],
   "source": [
    "chevroletCaptiva = chevrolet[chevrolet['Modelo'] == 'Captiva']\n",
    "version_chevroletCaptiva = chevroletCaptiva['Versión'].unique()\n",
    "print(version_chevroletCaptiva)\n",
    "print(len(version_chevroletCaptiva))"
   ]
  },
  {
   "cell_type": "code",
   "execution_count": 9,
   "metadata": {},
   "outputs": [
    {
     "name": "stdout",
     "output_type": "stream",
     "text": [
      "['1.5t Premier 4wd' '1.5t Lt 2wd' '1.5T RS FWD AT'\n",
      " '1.5 T AWD PREMIER AT6 L18' '1.5t Rs Fwd At' 'Rs' 'RS' 'Rs 1.5T'\n",
      " 'RS 1.5 TURBO FWD' '1.5T PREMIER AT 4x4' '1.5T LS AT 4x2'\n",
      " '1.5 T LS 2WD AT' '1.5 Turbo RS 2WD']\n",
      "13\n"
     ]
    }
   ],
   "source": [
    "chevroletEquinox = chevrolet[chevrolet['Modelo'] == 'Equinox']\n",
    "version_chevroletEquinox = chevroletEquinox['Versión'].unique()\n",
    "print(version_chevroletEquinox)\n",
    "print(len(version_chevroletEquinox))"
   ]
  },
  {
   "cell_type": "code",
   "execution_count": 11,
   "metadata": {},
   "outputs": [
    {
     "name": "stdout",
     "output_type": "stream",
     "text": [
      "['4.2 Dlx']\n",
      "1\n"
     ]
    }
   ],
   "source": [
    "chevroletGrandBlazer = chevrolet[chevrolet['Modelo'] == 'Grand Blazer']\n",
    "version_chevroletGrandBlazer = chevroletGrandBlazer['Versión'].unique()\n",
    "print(version_chevroletGrandBlazer)\n",
    "print(len(version_chevroletGrandBlazer))"
   ]
  },
  {
   "cell_type": "code",
   "execution_count": 13,
   "metadata": {},
   "outputs": [
    {
     "name": "stdout",
     "output_type": "stream",
     "text": [
      "['2.0' '2.0 I']\n",
      "2\n"
     ]
    }
   ],
   "source": [
    "chevroletGrandVitara = chevrolet[chevrolet['Modelo'] == 'Grand Vitara']\n",
    "version_chevroletGrandVitara = chevroletGrandVitara['Versión'].unique()\n",
    "print(version_chevroletGrandVitara)\n",
    "print(len(version_chevroletGrandVitara))"
   ]
  },
  {
   "cell_type": "code",
   "execution_count": 15,
   "metadata": {},
   "outputs": [
    {
     "name": "stdout",
     "output_type": "stream",
     "text": [
      "['1.8 ACTIV 7AS AT' 'Ltz' 'ACTIV' '1.8 Lt 5as 105cv'\n",
      " '1.8 Activ LTZ AT 5AS' 'Premier M/T 7as' 'Premier 7p 1.8']\n",
      "7\n"
     ]
    }
   ],
   "source": [
    "chevroletSpin = chevrolet[chevrolet['Modelo'] == 'Spin']\n",
    "version_chevroletSpin = chevroletSpin['Versión'].unique()\n",
    "print(version_chevroletSpin)\n",
    "print(len(version_chevroletSpin))"
   ]
  },
  {
   "cell_type": "code",
   "execution_count": 16,
   "metadata": {},
   "outputs": [
    {
     "name": "stdout",
     "output_type": "stream",
     "text": [
      "['1.2 Turbo Mt' '1.2 Ltz Turbo At' '1.2 Premier Turbo At' '1.8 Ltz'\n",
      " '1.2 Turbo At' '1.2 Turbo Ltz At' '1.8 Ltz+ Awd At 140cv'\n",
      " '1.8 Ltz Fwd Mt 140cv' '1.8 Ltz Awd At 140cv' '1.2 Turbo Premier At'\n",
      " '1.8 Ltz+ 140cv' '1.8 Ltz 140cv' '1.2 T PREMIER AT 4x2'\n",
      " '1.8 Ltz Fwd At 140cv' 'Premier At' 'PREMIER' 'TRACKER LT AT' 'Premier'\n",
      " 'PREMIER 1.2 AT' 'PREMIER 1.2T AT' '1.2 Turbo At argentina' 'Ltz'\n",
      " 'ltz at' '1.2 TURBO PREMIER' '1.8 Ltz+' 'LTZ 1.2T AT'\n",
      " '1.2 T AT PREMIER Cr' 'Premier 1.2T AT' 'LTZ 1.2 AT' 'Premier AT 1.2'\n",
      " 'PREMIER TURBO AT' '1.2 Turbo Mt argentina' '1.8 LTZ PLUS 4X4 AUT'\n",
      " 'premier' '1.2T AT Premier' '1.8 4X4 LTZ + AWD PREMIER'\n",
      " '1.8 4X2 FWD LTZ L' '1.8 LTZ + AWD 4x4 Premier AT' '1.8 oremier ltz'\n",
      " '1.8 Lt Fwd Mt 4x2' 'TRACKER 5P 1,8 LTZ A/T 4X4 A' '1.2T AT LTZ'\n",
      " 'LTZ AUTOMATICA 0KM 2022 STOCK' '1.8 PREMIER 4X2 MT' 'LT AT 1.2 TURBO'\n",
      " 'LTZ AT' 'LTZ + AWD AT' '1.2 T AT 4x2' '1.8 LTZ L/17 MT 4x2'\n",
      " '1.8 LTZ MT 4x2' '1.2 T LTZ AT 4x2' '1.8 LTZ+ AT 4x4' '1.2 AT'\n",
      " '1.8 Ltz Mt' 'Tracker LTZ AT' '1.2 TURBO AT6' '1.8 LTZ+ 4X4 AUT'\n",
      " 'AWD LTZ 4x4' '1.2 T AUTOMATICA LTZ' '1.8 Ltz Awd 140cv'\n",
      " '1.8 ltz premier' '1.8 LTZ 4x4' 'AWD Premier'\n",
      " 'Ltz Fwd 1.8 Mt 140Hp 178Nm Torque - Anticipo -' '1.8 Fwd Premier'\n",
      " 'FWD Premier' 'Premier AT 1,2 Turbo' 'Premier 1.8 MT' 'Fwd Premier'\n",
      " 'AWD PREMIER +' '1.8 4X2 LTZ L13' '1.8 4X4 LTZ PLUS PREMIER AT L17'\n",
      " '1.8 4X2 LTZ PREMIER L17' '1.8 4X4 LTZ PLUS AT L13' '1.2 T LTZ AT6'\n",
      " '1.8 4X4 LTZ AT L13' '1.8 LTZ MT 4X2' '1.8 PREMIER LTZ'\n",
      " '1.8 4X4 LTZ AT AWD' '1.2 Turbo At6 L/22' 'Premier LTZ MT'\n",
      " 'LT Automatica' '1.8 LTZ PREMIER MT' 'Ltz+4x4' 'Tracker FWD PREMIER'\n",
      " 'Awd ltz 4x4' '1.8 LTZ AWD' 'Awd ltz']\n",
      "88\n"
     ]
    }
   ],
   "source": [
    "chevroletTracker = chevrolet[chevrolet['Modelo'] == 'Tracker']\n",
    "version_chevroletTracker = chevroletTracker['Versión'].unique()\n",
    "print(version_chevroletTracker)\n",
    "print(len(version_chevroletTracker))"
   ]
  },
  {
   "cell_type": "code",
   "execution_count": 17,
   "metadata": {},
   "outputs": [
    {
     "name": "stdout",
     "output_type": "stream",
     "text": [
      "['2.8 Nueva Ltz Tdci 200cv' '2.8 4x4 Ltz At Tdci 180cv'\n",
      " 'Chevrolet Trailblazer Premier 2.8 Diesel Turbo Automático Awd'\n",
      " 'Chevrolet Trailblazer Premier 2.8d Turbo Automático Awd 2024'\n",
      " '2.8 4X4 PREMIER AT' 'Premier 4x4' '2.8 4x4 Premier AT'\n",
      " '2.8 TDI 4X4 PREMIER AT' '4x4 Premier 2.8 AT Kb' '2.8 4x4 Premier At BL'\n",
      " 'Premier' 'trailblazer' '2.8 4x4 Lt At Tdci 180cv' '2.8 NUEVA LTZ TDCI'\n",
      " '2.8 4X4 LTZ AT L16' '2.8 CTDI 4X4 LTZ A/T']\n",
      "16\n"
     ]
    }
   ],
   "source": [
    "chevroletTrailblazer = chevrolet[chevrolet['Modelo'] == 'Trailblazer']\n",
    "version_chevroletTrailblazer = chevroletTrailblazer['Versión'].unique()\n",
    "print(version_chevroletTrailblazer)\n",
    "print(len(version_chevroletTrailblazer))"
   ]
  }
 ],
 "metadata": {
  "kernelspec": {
   "display_name": "Python 3",
   "language": "python",
   "name": "python3"
  },
  "language_info": {
   "codemirror_mode": {
    "name": "ipython",
    "version": 3
   },
   "file_extension": ".py",
   "mimetype": "text/x-python",
   "name": "python",
   "nbconvert_exporter": "python",
   "pygments_lexer": "ipython3",
   "version": "3.9.6"
  }
 },
 "nbformat": 4,
 "nbformat_minor": 2
}
